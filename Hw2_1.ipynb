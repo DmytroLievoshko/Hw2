{
  "nbformat": 4,
  "nbformat_minor": 0,
  "metadata": {
    "colab": {
      "provenance": []
    },
    "kernelspec": {
      "name": "python3",
      "display_name": "Python 3"
    },
    "language_info": {
      "name": "python"
    }
  },
  "cells": [
    {
      "cell_type": "markdown",
      "source": [
        "# **Знакомство с Pandas**"
      ],
      "metadata": {
        "id": "0qEKdcuHIC2o"
      }
    },
    {
      "cell_type": "markdown",
      "source": [
        "Прочитайте данные с помощью метода read_html из таблицы \"Коефіцієнт народжуваності в регіонах України (1950—2019)\" по ссылке"
      ],
      "metadata": {
        "id": "4HPAaeM5IUJO"
      }
    },
    {
      "cell_type": "code",
      "source": [
        "import pandas as pd\n",
        "\n",
        "df = pd.read_html(\"https://uk.wikipedia.org/wiki/%D0%9D%D0%B0%D1%81%D0%B5%D0%BB%D0%B5%D0%BD%D0%BD%D1%8F_%D0%A3%D0%BA%D1%80%D0%B0%D1%97%D0%BD%D0%B8#%D0%9D%D0%B0%D1%80%D0%BE%D0%B4%D0%B6%D1%83%D0%B2%D0%B0%D0%BD%D1%96%D1%81%D1%82%D1%8C\", thousands= \" \", match = \"Регіон\", attrs={\"class\": \"wikitable collapsible collapsed\"})[0]\n"
      ],
      "metadata": {
        "id": "6JmH0qDxIWAU"
      },
      "execution_count": 26,
      "outputs": []
    },
    {
      "cell_type": "markdown",
      "source": [
        "Вывести первые строки таблицы с помощью метода head\n",
        "\n"
      ],
      "metadata": {
        "id": "mudmHaGtiIH5"
      }
    },
    {
      "cell_type": "code",
      "source": [
        "df.head(5)"
      ],
      "metadata": {
        "colab": {
          "base_uri": "https://localhost:8080/",
          "height": 206
        },
        "id": "YcZvgUQ8iOw9",
        "outputId": "de5c82a8-6f98-4227-bded-fea0fd44428f"
      },
      "execution_count": 27,
      "outputs": [
        {
          "output_type": "execute_result",
          "data": {
            "text/plain": [
              "             Регіон  1950  1960  1970  1990  2000  2012  2014  2019\n",
              "0              Крим  23,0  20,6  16,0  13,0   7,3  12,6     —     —\n",
              "1         Вінницька  22,4  19,2  14,2  12,4   8,4  11,2  10,9   7,6\n",
              "2         Волинська  24,7  25,0  17,9  15,3  11,2  14,8  14,1  10,1\n",
              "3  Дніпропетровська  20,4  20,4  15,1  12,3   7,1  11,2  11,1   7,1\n",
              "4          Донецька  27,1  21,4  14,0  10,9   6,1   9,8   8,2     —"
            ],
            "text/html": [
              "\n",
              "  <div id=\"df-6f3628f3-fd4b-4cea-9ea3-0a29dda5db53\">\n",
              "    <div class=\"colab-df-container\">\n",
              "      <div>\n",
              "<style scoped>\n",
              "    .dataframe tbody tr th:only-of-type {\n",
              "        vertical-align: middle;\n",
              "    }\n",
              "\n",
              "    .dataframe tbody tr th {\n",
              "        vertical-align: top;\n",
              "    }\n",
              "\n",
              "    .dataframe thead th {\n",
              "        text-align: right;\n",
              "    }\n",
              "</style>\n",
              "<table border=\"1\" class=\"dataframe\">\n",
              "  <thead>\n",
              "    <tr style=\"text-align: right;\">\n",
              "      <th></th>\n",
              "      <th>Регіон</th>\n",
              "      <th>1950</th>\n",
              "      <th>1960</th>\n",
              "      <th>1970</th>\n",
              "      <th>1990</th>\n",
              "      <th>2000</th>\n",
              "      <th>2012</th>\n",
              "      <th>2014</th>\n",
              "      <th>2019</th>\n",
              "    </tr>\n",
              "  </thead>\n",
              "  <tbody>\n",
              "    <tr>\n",
              "      <th>0</th>\n",
              "      <td>Крим</td>\n",
              "      <td>23,0</td>\n",
              "      <td>20,6</td>\n",
              "      <td>16,0</td>\n",
              "      <td>13,0</td>\n",
              "      <td>7,3</td>\n",
              "      <td>12,6</td>\n",
              "      <td>—</td>\n",
              "      <td>—</td>\n",
              "    </tr>\n",
              "    <tr>\n",
              "      <th>1</th>\n",
              "      <td>Вінницька</td>\n",
              "      <td>22,4</td>\n",
              "      <td>19,2</td>\n",
              "      <td>14,2</td>\n",
              "      <td>12,4</td>\n",
              "      <td>8,4</td>\n",
              "      <td>11,2</td>\n",
              "      <td>10,9</td>\n",
              "      <td>7,6</td>\n",
              "    </tr>\n",
              "    <tr>\n",
              "      <th>2</th>\n",
              "      <td>Волинська</td>\n",
              "      <td>24,7</td>\n",
              "      <td>25,0</td>\n",
              "      <td>17,9</td>\n",
              "      <td>15,3</td>\n",
              "      <td>11,2</td>\n",
              "      <td>14,8</td>\n",
              "      <td>14,1</td>\n",
              "      <td>10,1</td>\n",
              "    </tr>\n",
              "    <tr>\n",
              "      <th>3</th>\n",
              "      <td>Дніпропетровська</td>\n",
              "      <td>20,4</td>\n",
              "      <td>20,4</td>\n",
              "      <td>15,1</td>\n",
              "      <td>12,3</td>\n",
              "      <td>7,1</td>\n",
              "      <td>11,2</td>\n",
              "      <td>11,1</td>\n",
              "      <td>7,1</td>\n",
              "    </tr>\n",
              "    <tr>\n",
              "      <th>4</th>\n",
              "      <td>Донецька</td>\n",
              "      <td>27,1</td>\n",
              "      <td>21,4</td>\n",
              "      <td>14,0</td>\n",
              "      <td>10,9</td>\n",
              "      <td>6,1</td>\n",
              "      <td>9,8</td>\n",
              "      <td>8,2</td>\n",
              "      <td>—</td>\n",
              "    </tr>\n",
              "  </tbody>\n",
              "</table>\n",
              "</div>\n",
              "      <button class=\"colab-df-convert\" onclick=\"convertToInteractive('df-6f3628f3-fd4b-4cea-9ea3-0a29dda5db53')\"\n",
              "              title=\"Convert this dataframe to an interactive table.\"\n",
              "              style=\"display:none;\">\n",
              "        \n",
              "  <svg xmlns=\"http://www.w3.org/2000/svg\" height=\"24px\"viewBox=\"0 0 24 24\"\n",
              "       width=\"24px\">\n",
              "    <path d=\"M0 0h24v24H0V0z\" fill=\"none\"/>\n",
              "    <path d=\"M18.56 5.44l.94 2.06.94-2.06 2.06-.94-2.06-.94-.94-2.06-.94 2.06-2.06.94zm-11 1L8.5 8.5l.94-2.06 2.06-.94-2.06-.94L8.5 2.5l-.94 2.06-2.06.94zm10 10l.94 2.06.94-2.06 2.06-.94-2.06-.94-.94-2.06-.94 2.06-2.06.94z\"/><path d=\"M17.41 7.96l-1.37-1.37c-.4-.4-.92-.59-1.43-.59-.52 0-1.04.2-1.43.59L10.3 9.45l-7.72 7.72c-.78.78-.78 2.05 0 2.83L4 21.41c.39.39.9.59 1.41.59.51 0 1.02-.2 1.41-.59l7.78-7.78 2.81-2.81c.8-.78.8-2.07 0-2.86zM5.41 20L4 18.59l7.72-7.72 1.47 1.35L5.41 20z\"/>\n",
              "  </svg>\n",
              "      </button>\n",
              "      \n",
              "  <style>\n",
              "    .colab-df-container {\n",
              "      display:flex;\n",
              "      flex-wrap:wrap;\n",
              "      gap: 12px;\n",
              "    }\n",
              "\n",
              "    .colab-df-convert {\n",
              "      background-color: #E8F0FE;\n",
              "      border: none;\n",
              "      border-radius: 50%;\n",
              "      cursor: pointer;\n",
              "      display: none;\n",
              "      fill: #1967D2;\n",
              "      height: 32px;\n",
              "      padding: 0 0 0 0;\n",
              "      width: 32px;\n",
              "    }\n",
              "\n",
              "    .colab-df-convert:hover {\n",
              "      background-color: #E2EBFA;\n",
              "      box-shadow: 0px 1px 2px rgba(60, 64, 67, 0.3), 0px 1px 3px 1px rgba(60, 64, 67, 0.15);\n",
              "      fill: #174EA6;\n",
              "    }\n",
              "\n",
              "    [theme=dark] .colab-df-convert {\n",
              "      background-color: #3B4455;\n",
              "      fill: #D2E3FC;\n",
              "    }\n",
              "\n",
              "    [theme=dark] .colab-df-convert:hover {\n",
              "      background-color: #434B5C;\n",
              "      box-shadow: 0px 1px 3px 1px rgba(0, 0, 0, 0.15);\n",
              "      filter: drop-shadow(0px 1px 2px rgba(0, 0, 0, 0.3));\n",
              "      fill: #FFFFFF;\n",
              "    }\n",
              "  </style>\n",
              "\n",
              "      <script>\n",
              "        const buttonEl =\n",
              "          document.querySelector('#df-6f3628f3-fd4b-4cea-9ea3-0a29dda5db53 button.colab-df-convert');\n",
              "        buttonEl.style.display =\n",
              "          google.colab.kernel.accessAllowed ? 'block' : 'none';\n",
              "\n",
              "        async function convertToInteractive(key) {\n",
              "          const element = document.querySelector('#df-6f3628f3-fd4b-4cea-9ea3-0a29dda5db53');\n",
              "          const dataTable =\n",
              "            await google.colab.kernel.invokeFunction('convertToInteractive',\n",
              "                                                     [key], {});\n",
              "          if (!dataTable) return;\n",
              "\n",
              "          const docLinkHtml = 'Like what you see? Visit the ' +\n",
              "            '<a target=\"_blank\" href=https://colab.research.google.com/notebooks/data_table.ipynb>data table notebook</a>'\n",
              "            + ' to learn more about interactive tables.';\n",
              "          element.innerHTML = '';\n",
              "          dataTable['output_type'] = 'display_data';\n",
              "          await google.colab.output.renderOutput(dataTable, element);\n",
              "          const docLink = document.createElement('div');\n",
              "          docLink.innerHTML = docLinkHtml;\n",
              "          element.appendChild(docLink);\n",
              "        }\n",
              "      </script>\n",
              "    </div>\n",
              "  </div>\n",
              "  "
            ]
          },
          "metadata": {},
          "execution_count": 27
        }
      ]
    },
    {
      "cell_type": "markdown",
      "source": [
        "Определите количество строк и столбцов в датафрейме (атрибут shape)"
      ],
      "metadata": {
        "id": "fplp4jnpidpM"
      }
    },
    {
      "cell_type": "code",
      "source": [
        "df.shape"
      ],
      "metadata": {
        "colab": {
          "base_uri": "https://localhost:8080/"
        },
        "id": "ikGP0Z8uiedG",
        "outputId": "51ff0710-8cf6-4e01-bcaf-4ac130d3f3cf"
      },
      "execution_count": 28,
      "outputs": [
        {
          "output_type": "execute_result",
          "data": {
            "text/plain": [
              "(28, 9)"
            ]
          },
          "metadata": {},
          "execution_count": 28
        }
      ]
    },
    {
      "cell_type": "markdown",
      "source": [
        "Замените в таблице значения \"—\" на значения NaN"
      ],
      "metadata": {
        "id": "MndzDdyLkXCO"
      }
    },
    {
      "cell_type": "code",
      "source": [
        "import numpy as np\n",
        "\n",
        "df = df.replace('—', np.nan)\n",
        "df.head(5)"
      ],
      "metadata": {
        "colab": {
          "base_uri": "https://localhost:8080/",
          "height": 206
        },
        "id": "O8DI6x7ckXrw",
        "outputId": "c534c84e-f9f8-493e-fa5a-d363785cac8d"
      },
      "execution_count": 29,
      "outputs": [
        {
          "output_type": "execute_result",
          "data": {
            "text/plain": [
              "             Регіон  1950  1960  1970  1990  2000  2012  2014  2019\n",
              "0              Крим  23,0  20,6  16,0  13,0   7,3  12,6   NaN   NaN\n",
              "1         Вінницька  22,4  19,2  14,2  12,4   8,4  11,2  10,9   7,6\n",
              "2         Волинська  24,7  25,0  17,9  15,3  11,2  14,8  14,1  10,1\n",
              "3  Дніпропетровська  20,4  20,4  15,1  12,3   7,1  11,2  11,1   7,1\n",
              "4          Донецька  27,1  21,4  14,0  10,9   6,1   9,8   8,2   NaN"
            ],
            "text/html": [
              "\n",
              "  <div id=\"df-bf8b449e-9c5a-4602-9c68-f67f6b6a9e7a\">\n",
              "    <div class=\"colab-df-container\">\n",
              "      <div>\n",
              "<style scoped>\n",
              "    .dataframe tbody tr th:only-of-type {\n",
              "        vertical-align: middle;\n",
              "    }\n",
              "\n",
              "    .dataframe tbody tr th {\n",
              "        vertical-align: top;\n",
              "    }\n",
              "\n",
              "    .dataframe thead th {\n",
              "        text-align: right;\n",
              "    }\n",
              "</style>\n",
              "<table border=\"1\" class=\"dataframe\">\n",
              "  <thead>\n",
              "    <tr style=\"text-align: right;\">\n",
              "      <th></th>\n",
              "      <th>Регіон</th>\n",
              "      <th>1950</th>\n",
              "      <th>1960</th>\n",
              "      <th>1970</th>\n",
              "      <th>1990</th>\n",
              "      <th>2000</th>\n",
              "      <th>2012</th>\n",
              "      <th>2014</th>\n",
              "      <th>2019</th>\n",
              "    </tr>\n",
              "  </thead>\n",
              "  <tbody>\n",
              "    <tr>\n",
              "      <th>0</th>\n",
              "      <td>Крим</td>\n",
              "      <td>23,0</td>\n",
              "      <td>20,6</td>\n",
              "      <td>16,0</td>\n",
              "      <td>13,0</td>\n",
              "      <td>7,3</td>\n",
              "      <td>12,6</td>\n",
              "      <td>NaN</td>\n",
              "      <td>NaN</td>\n",
              "    </tr>\n",
              "    <tr>\n",
              "      <th>1</th>\n",
              "      <td>Вінницька</td>\n",
              "      <td>22,4</td>\n",
              "      <td>19,2</td>\n",
              "      <td>14,2</td>\n",
              "      <td>12,4</td>\n",
              "      <td>8,4</td>\n",
              "      <td>11,2</td>\n",
              "      <td>10,9</td>\n",
              "      <td>7,6</td>\n",
              "    </tr>\n",
              "    <tr>\n",
              "      <th>2</th>\n",
              "      <td>Волинська</td>\n",
              "      <td>24,7</td>\n",
              "      <td>25,0</td>\n",
              "      <td>17,9</td>\n",
              "      <td>15,3</td>\n",
              "      <td>11,2</td>\n",
              "      <td>14,8</td>\n",
              "      <td>14,1</td>\n",
              "      <td>10,1</td>\n",
              "    </tr>\n",
              "    <tr>\n",
              "      <th>3</th>\n",
              "      <td>Дніпропетровська</td>\n",
              "      <td>20,4</td>\n",
              "      <td>20,4</td>\n",
              "      <td>15,1</td>\n",
              "      <td>12,3</td>\n",
              "      <td>7,1</td>\n",
              "      <td>11,2</td>\n",
              "      <td>11,1</td>\n",
              "      <td>7,1</td>\n",
              "    </tr>\n",
              "    <tr>\n",
              "      <th>4</th>\n",
              "      <td>Донецька</td>\n",
              "      <td>27,1</td>\n",
              "      <td>21,4</td>\n",
              "      <td>14,0</td>\n",
              "      <td>10,9</td>\n",
              "      <td>6,1</td>\n",
              "      <td>9,8</td>\n",
              "      <td>8,2</td>\n",
              "      <td>NaN</td>\n",
              "    </tr>\n",
              "  </tbody>\n",
              "</table>\n",
              "</div>\n",
              "      <button class=\"colab-df-convert\" onclick=\"convertToInteractive('df-bf8b449e-9c5a-4602-9c68-f67f6b6a9e7a')\"\n",
              "              title=\"Convert this dataframe to an interactive table.\"\n",
              "              style=\"display:none;\">\n",
              "        \n",
              "  <svg xmlns=\"http://www.w3.org/2000/svg\" height=\"24px\"viewBox=\"0 0 24 24\"\n",
              "       width=\"24px\">\n",
              "    <path d=\"M0 0h24v24H0V0z\" fill=\"none\"/>\n",
              "    <path d=\"M18.56 5.44l.94 2.06.94-2.06 2.06-.94-2.06-.94-.94-2.06-.94 2.06-2.06.94zm-11 1L8.5 8.5l.94-2.06 2.06-.94-2.06-.94L8.5 2.5l-.94 2.06-2.06.94zm10 10l.94 2.06.94-2.06 2.06-.94-2.06-.94-.94-2.06-.94 2.06-2.06.94z\"/><path d=\"M17.41 7.96l-1.37-1.37c-.4-.4-.92-.59-1.43-.59-.52 0-1.04.2-1.43.59L10.3 9.45l-7.72 7.72c-.78.78-.78 2.05 0 2.83L4 21.41c.39.39.9.59 1.41.59.51 0 1.02-.2 1.41-.59l7.78-7.78 2.81-2.81c.8-.78.8-2.07 0-2.86zM5.41 20L4 18.59l7.72-7.72 1.47 1.35L5.41 20z\"/>\n",
              "  </svg>\n",
              "      </button>\n",
              "      \n",
              "  <style>\n",
              "    .colab-df-container {\n",
              "      display:flex;\n",
              "      flex-wrap:wrap;\n",
              "      gap: 12px;\n",
              "    }\n",
              "\n",
              "    .colab-df-convert {\n",
              "      background-color: #E8F0FE;\n",
              "      border: none;\n",
              "      border-radius: 50%;\n",
              "      cursor: pointer;\n",
              "      display: none;\n",
              "      fill: #1967D2;\n",
              "      height: 32px;\n",
              "      padding: 0 0 0 0;\n",
              "      width: 32px;\n",
              "    }\n",
              "\n",
              "    .colab-df-convert:hover {\n",
              "      background-color: #E2EBFA;\n",
              "      box-shadow: 0px 1px 2px rgba(60, 64, 67, 0.3), 0px 1px 3px 1px rgba(60, 64, 67, 0.15);\n",
              "      fill: #174EA6;\n",
              "    }\n",
              "\n",
              "    [theme=dark] .colab-df-convert {\n",
              "      background-color: #3B4455;\n",
              "      fill: #D2E3FC;\n",
              "    }\n",
              "\n",
              "    [theme=dark] .colab-df-convert:hover {\n",
              "      background-color: #434B5C;\n",
              "      box-shadow: 0px 1px 3px 1px rgba(0, 0, 0, 0.15);\n",
              "      filter: drop-shadow(0px 1px 2px rgba(0, 0, 0, 0.3));\n",
              "      fill: #FFFFFF;\n",
              "    }\n",
              "  </style>\n",
              "\n",
              "      <script>\n",
              "        const buttonEl =\n",
              "          document.querySelector('#df-bf8b449e-9c5a-4602-9c68-f67f6b6a9e7a button.colab-df-convert');\n",
              "        buttonEl.style.display =\n",
              "          google.colab.kernel.accessAllowed ? 'block' : 'none';\n",
              "\n",
              "        async function convertToInteractive(key) {\n",
              "          const element = document.querySelector('#df-bf8b449e-9c5a-4602-9c68-f67f6b6a9e7a');\n",
              "          const dataTable =\n",
              "            await google.colab.kernel.invokeFunction('convertToInteractive',\n",
              "                                                     [key], {});\n",
              "          if (!dataTable) return;\n",
              "\n",
              "          const docLinkHtml = 'Like what you see? Visit the ' +\n",
              "            '<a target=\"_blank\" href=https://colab.research.google.com/notebooks/data_table.ipynb>data table notebook</a>'\n",
              "            + ' to learn more about interactive tables.';\n",
              "          element.innerHTML = '';\n",
              "          dataTable['output_type'] = 'display_data';\n",
              "          await google.colab.output.renderOutput(dataTable, element);\n",
              "          const docLink = document.createElement('div');\n",
              "          docLink.innerHTML = docLinkHtml;\n",
              "          element.appendChild(docLink);\n",
              "        }\n",
              "      </script>\n",
              "    </div>\n",
              "  </div>\n",
              "  "
            ]
          },
          "metadata": {},
          "execution_count": 29
        }
      ]
    },
    {
      "cell_type": "markdown",
      "source": [
        "Определите типы всех столбцов с помощью dataframe.dtypes"
      ],
      "metadata": {
        "id": "5pILLzxalujI"
      }
    },
    {
      "cell_type": "code",
      "source": [
        "df.dtypes"
      ],
      "metadata": {
        "colab": {
          "base_uri": "https://localhost:8080/"
        },
        "id": "v-BxV9CdlvbS",
        "outputId": "809378c1-a474-42fb-a887-c154182086cc"
      },
      "execution_count": 30,
      "outputs": [
        {
          "output_type": "execute_result",
          "data": {
            "text/plain": [
              "Регіон    object\n",
              "1950      object\n",
              "1960      object\n",
              "1970      object\n",
              "1990      object\n",
              "2000      object\n",
              "2012      object\n",
              "2014      object\n",
              "2019      object\n",
              "dtype: object"
            ]
          },
          "metadata": {},
          "execution_count": 30
        }
      ]
    },
    {
      "cell_type": "markdown",
      "source": [
        "Замените типы не числовых колонок на числовые."
      ],
      "metadata": {
        "id": "g-I8HA31nBp4"
      }
    },
    {
      "cell_type": "code",
      "source": [
        "#for colum in df.columns[1:]:\n",
        "#  df[colum] = df[colum].str.replace(',', '.').astype(float)\n",
        "\n",
        "df.iloc[:, 1:] = df.iloc[:, 1:].applymap(lambda x: float(str(x).replace(',', '.'))).astype(float)\n"
      ],
      "metadata": {
        "id": "FU7Y29xHngAI"
      },
      "execution_count": 31,
      "outputs": []
    },
    {
      "cell_type": "code",
      "source": [
        "print(df.dtypes)\n",
        "df.head(5)"
      ],
      "metadata": {
        "colab": {
          "base_uri": "https://localhost:8080/",
          "height": 379
        },
        "id": "6Bo_j0QSrhKJ",
        "outputId": "361e75f1-5758-415d-88be-91aaadee92b6"
      },
      "execution_count": 33,
      "outputs": [
        {
          "output_type": "stream",
          "name": "stdout",
          "text": [
            "Регіон     object\n",
            "1950      float64\n",
            "1960      float64\n",
            "1970      float64\n",
            "1990      float64\n",
            "2000      float64\n",
            "2012      float64\n",
            "2014      float64\n",
            "2019      float64\n",
            "dtype: object\n"
          ]
        },
        {
          "output_type": "execute_result",
          "data": {
            "text/plain": [
              "             Регіон  1950  1960  1970  1990  2000  2012  2014  2019\n",
              "0              Крим  23.0  20.6  16.0  13.0   7.3  12.6   NaN   NaN\n",
              "1         Вінницька  22.4  19.2  14.2  12.4   8.4  11.2  10.9   7.6\n",
              "2         Волинська  24.7  25.0  17.9  15.3  11.2  14.8  14.1  10.1\n",
              "3  Дніпропетровська  20.4  20.4  15.1  12.3   7.1  11.2  11.1   7.1\n",
              "4          Донецька  27.1  21.4  14.0  10.9   6.1   9.8   8.2   NaN"
            ],
            "text/html": [
              "\n",
              "  <div id=\"df-1df6f3b0-873f-4805-bfd1-ab68cc1f6c12\">\n",
              "    <div class=\"colab-df-container\">\n",
              "      <div>\n",
              "<style scoped>\n",
              "    .dataframe tbody tr th:only-of-type {\n",
              "        vertical-align: middle;\n",
              "    }\n",
              "\n",
              "    .dataframe tbody tr th {\n",
              "        vertical-align: top;\n",
              "    }\n",
              "\n",
              "    .dataframe thead th {\n",
              "        text-align: right;\n",
              "    }\n",
              "</style>\n",
              "<table border=\"1\" class=\"dataframe\">\n",
              "  <thead>\n",
              "    <tr style=\"text-align: right;\">\n",
              "      <th></th>\n",
              "      <th>Регіон</th>\n",
              "      <th>1950</th>\n",
              "      <th>1960</th>\n",
              "      <th>1970</th>\n",
              "      <th>1990</th>\n",
              "      <th>2000</th>\n",
              "      <th>2012</th>\n",
              "      <th>2014</th>\n",
              "      <th>2019</th>\n",
              "    </tr>\n",
              "  </thead>\n",
              "  <tbody>\n",
              "    <tr>\n",
              "      <th>0</th>\n",
              "      <td>Крим</td>\n",
              "      <td>23.0</td>\n",
              "      <td>20.6</td>\n",
              "      <td>16.0</td>\n",
              "      <td>13.0</td>\n",
              "      <td>7.3</td>\n",
              "      <td>12.6</td>\n",
              "      <td>NaN</td>\n",
              "      <td>NaN</td>\n",
              "    </tr>\n",
              "    <tr>\n",
              "      <th>1</th>\n",
              "      <td>Вінницька</td>\n",
              "      <td>22.4</td>\n",
              "      <td>19.2</td>\n",
              "      <td>14.2</td>\n",
              "      <td>12.4</td>\n",
              "      <td>8.4</td>\n",
              "      <td>11.2</td>\n",
              "      <td>10.9</td>\n",
              "      <td>7.6</td>\n",
              "    </tr>\n",
              "    <tr>\n",
              "      <th>2</th>\n",
              "      <td>Волинська</td>\n",
              "      <td>24.7</td>\n",
              "      <td>25.0</td>\n",
              "      <td>17.9</td>\n",
              "      <td>15.3</td>\n",
              "      <td>11.2</td>\n",
              "      <td>14.8</td>\n",
              "      <td>14.1</td>\n",
              "      <td>10.1</td>\n",
              "    </tr>\n",
              "    <tr>\n",
              "      <th>3</th>\n",
              "      <td>Дніпропетровська</td>\n",
              "      <td>20.4</td>\n",
              "      <td>20.4</td>\n",
              "      <td>15.1</td>\n",
              "      <td>12.3</td>\n",
              "      <td>7.1</td>\n",
              "      <td>11.2</td>\n",
              "      <td>11.1</td>\n",
              "      <td>7.1</td>\n",
              "    </tr>\n",
              "    <tr>\n",
              "      <th>4</th>\n",
              "      <td>Донецька</td>\n",
              "      <td>27.1</td>\n",
              "      <td>21.4</td>\n",
              "      <td>14.0</td>\n",
              "      <td>10.9</td>\n",
              "      <td>6.1</td>\n",
              "      <td>9.8</td>\n",
              "      <td>8.2</td>\n",
              "      <td>NaN</td>\n",
              "    </tr>\n",
              "  </tbody>\n",
              "</table>\n",
              "</div>\n",
              "      <button class=\"colab-df-convert\" onclick=\"convertToInteractive('df-1df6f3b0-873f-4805-bfd1-ab68cc1f6c12')\"\n",
              "              title=\"Convert this dataframe to an interactive table.\"\n",
              "              style=\"display:none;\">\n",
              "        \n",
              "  <svg xmlns=\"http://www.w3.org/2000/svg\" height=\"24px\"viewBox=\"0 0 24 24\"\n",
              "       width=\"24px\">\n",
              "    <path d=\"M0 0h24v24H0V0z\" fill=\"none\"/>\n",
              "    <path d=\"M18.56 5.44l.94 2.06.94-2.06 2.06-.94-2.06-.94-.94-2.06-.94 2.06-2.06.94zm-11 1L8.5 8.5l.94-2.06 2.06-.94-2.06-.94L8.5 2.5l-.94 2.06-2.06.94zm10 10l.94 2.06.94-2.06 2.06-.94-2.06-.94-.94-2.06-.94 2.06-2.06.94z\"/><path d=\"M17.41 7.96l-1.37-1.37c-.4-.4-.92-.59-1.43-.59-.52 0-1.04.2-1.43.59L10.3 9.45l-7.72 7.72c-.78.78-.78 2.05 0 2.83L4 21.41c.39.39.9.59 1.41.59.51 0 1.02-.2 1.41-.59l7.78-7.78 2.81-2.81c.8-.78.8-2.07 0-2.86zM5.41 20L4 18.59l7.72-7.72 1.47 1.35L5.41 20z\"/>\n",
              "  </svg>\n",
              "      </button>\n",
              "      \n",
              "  <style>\n",
              "    .colab-df-container {\n",
              "      display:flex;\n",
              "      flex-wrap:wrap;\n",
              "      gap: 12px;\n",
              "    }\n",
              "\n",
              "    .colab-df-convert {\n",
              "      background-color: #E8F0FE;\n",
              "      border: none;\n",
              "      border-radius: 50%;\n",
              "      cursor: pointer;\n",
              "      display: none;\n",
              "      fill: #1967D2;\n",
              "      height: 32px;\n",
              "      padding: 0 0 0 0;\n",
              "      width: 32px;\n",
              "    }\n",
              "\n",
              "    .colab-df-convert:hover {\n",
              "      background-color: #E2EBFA;\n",
              "      box-shadow: 0px 1px 2px rgba(60, 64, 67, 0.3), 0px 1px 3px 1px rgba(60, 64, 67, 0.15);\n",
              "      fill: #174EA6;\n",
              "    }\n",
              "\n",
              "    [theme=dark] .colab-df-convert {\n",
              "      background-color: #3B4455;\n",
              "      fill: #D2E3FC;\n",
              "    }\n",
              "\n",
              "    [theme=dark] .colab-df-convert:hover {\n",
              "      background-color: #434B5C;\n",
              "      box-shadow: 0px 1px 3px 1px rgba(0, 0, 0, 0.15);\n",
              "      filter: drop-shadow(0px 1px 2px rgba(0, 0, 0, 0.3));\n",
              "      fill: #FFFFFF;\n",
              "    }\n",
              "  </style>\n",
              "\n",
              "      <script>\n",
              "        const buttonEl =\n",
              "          document.querySelector('#df-1df6f3b0-873f-4805-bfd1-ab68cc1f6c12 button.colab-df-convert');\n",
              "        buttonEl.style.display =\n",
              "          google.colab.kernel.accessAllowed ? 'block' : 'none';\n",
              "\n",
              "        async function convertToInteractive(key) {\n",
              "          const element = document.querySelector('#df-1df6f3b0-873f-4805-bfd1-ab68cc1f6c12');\n",
              "          const dataTable =\n",
              "            await google.colab.kernel.invokeFunction('convertToInteractive',\n",
              "                                                     [key], {});\n",
              "          if (!dataTable) return;\n",
              "\n",
              "          const docLinkHtml = 'Like what you see? Visit the ' +\n",
              "            '<a target=\"_blank\" href=https://colab.research.google.com/notebooks/data_table.ipynb>data table notebook</a>'\n",
              "            + ' to learn more about interactive tables.';\n",
              "          element.innerHTML = '';\n",
              "          dataTable['output_type'] = 'display_data';\n",
              "          await google.colab.output.renderOutput(dataTable, element);\n",
              "          const docLink = document.createElement('div');\n",
              "          docLink.innerHTML = docLinkHtml;\n",
              "          element.appendChild(docLink);\n",
              "        }\n",
              "      </script>\n",
              "    </div>\n",
              "  </div>\n",
              "  "
            ]
          },
          "metadata": {},
          "execution_count": 33
        }
      ]
    },
    {
      "cell_type": "markdown",
      "source": [
        "Посчитайте, какая доля пропусков содержится в каждой колонке (используйте методы isnull и sum)"
      ],
      "metadata": {
        "id": "8pHYN8hhsTn3"
      }
    },
    {
      "cell_type": "code",
      "source": [
        "null_counts = df.isnull().sum()\n",
        "total_counts = len(df)\n",
        "null_fractions = null_counts / total_counts\n",
        "\n",
        "print(null_fractions)"
      ],
      "metadata": {
        "colab": {
          "base_uri": "https://localhost:8080/"
        },
        "id": "9CtXYIMIsVHP",
        "outputId": "bec54beb-50e1-4458-a8df-41788f46552d"
      },
      "execution_count": 34,
      "outputs": [
        {
          "output_type": "stream",
          "name": "stdout",
          "text": [
            "Регіон    0.000000\n",
            "1950      0.071429\n",
            "1960      0.035714\n",
            "1970      0.035714\n",
            "1990      0.000000\n",
            "2000      0.000000\n",
            "2012      0.000000\n",
            "2014      0.071429\n",
            "2019      0.142857\n",
            "dtype: float64\n"
          ]
        }
      ]
    },
    {
      "cell_type": "markdown",
      "source": [
        "Удалите из таблицы данные по всей стране, последняя строчка таблицы"
      ],
      "metadata": {
        "id": "6IEjmBzItqPV"
      }
    },
    {
      "cell_type": "code",
      "source": [
        "df = df.drop(index=df.index[-1])\n",
        "\n",
        "df.head(5)"
      ],
      "metadata": {
        "colab": {
          "base_uri": "https://localhost:8080/",
          "height": 206
        },
        "id": "uyaarkQAtryL",
        "outputId": "fbe508db-c46c-46dc-960f-cbabebbb37cf"
      },
      "execution_count": 35,
      "outputs": [
        {
          "output_type": "execute_result",
          "data": {
            "text/plain": [
              "             Регіон  1950  1960  1970  1990  2000  2012  2014  2019\n",
              "0              Крим  23.0  20.6  16.0  13.0   7.3  12.6   NaN   NaN\n",
              "1         Вінницька  22.4  19.2  14.2  12.4   8.4  11.2  10.9   7.6\n",
              "2         Волинська  24.7  25.0  17.9  15.3  11.2  14.8  14.1  10.1\n",
              "3  Дніпропетровська  20.4  20.4  15.1  12.3   7.1  11.2  11.1   7.1\n",
              "4          Донецька  27.1  21.4  14.0  10.9   6.1   9.8   8.2   NaN"
            ],
            "text/html": [
              "\n",
              "  <div id=\"df-541b71de-9ccc-4327-9c73-fb4a63b04989\">\n",
              "    <div class=\"colab-df-container\">\n",
              "      <div>\n",
              "<style scoped>\n",
              "    .dataframe tbody tr th:only-of-type {\n",
              "        vertical-align: middle;\n",
              "    }\n",
              "\n",
              "    .dataframe tbody tr th {\n",
              "        vertical-align: top;\n",
              "    }\n",
              "\n",
              "    .dataframe thead th {\n",
              "        text-align: right;\n",
              "    }\n",
              "</style>\n",
              "<table border=\"1\" class=\"dataframe\">\n",
              "  <thead>\n",
              "    <tr style=\"text-align: right;\">\n",
              "      <th></th>\n",
              "      <th>Регіон</th>\n",
              "      <th>1950</th>\n",
              "      <th>1960</th>\n",
              "      <th>1970</th>\n",
              "      <th>1990</th>\n",
              "      <th>2000</th>\n",
              "      <th>2012</th>\n",
              "      <th>2014</th>\n",
              "      <th>2019</th>\n",
              "    </tr>\n",
              "  </thead>\n",
              "  <tbody>\n",
              "    <tr>\n",
              "      <th>0</th>\n",
              "      <td>Крим</td>\n",
              "      <td>23.0</td>\n",
              "      <td>20.6</td>\n",
              "      <td>16.0</td>\n",
              "      <td>13.0</td>\n",
              "      <td>7.3</td>\n",
              "      <td>12.6</td>\n",
              "      <td>NaN</td>\n",
              "      <td>NaN</td>\n",
              "    </tr>\n",
              "    <tr>\n",
              "      <th>1</th>\n",
              "      <td>Вінницька</td>\n",
              "      <td>22.4</td>\n",
              "      <td>19.2</td>\n",
              "      <td>14.2</td>\n",
              "      <td>12.4</td>\n",
              "      <td>8.4</td>\n",
              "      <td>11.2</td>\n",
              "      <td>10.9</td>\n",
              "      <td>7.6</td>\n",
              "    </tr>\n",
              "    <tr>\n",
              "      <th>2</th>\n",
              "      <td>Волинська</td>\n",
              "      <td>24.7</td>\n",
              "      <td>25.0</td>\n",
              "      <td>17.9</td>\n",
              "      <td>15.3</td>\n",
              "      <td>11.2</td>\n",
              "      <td>14.8</td>\n",
              "      <td>14.1</td>\n",
              "      <td>10.1</td>\n",
              "    </tr>\n",
              "    <tr>\n",
              "      <th>3</th>\n",
              "      <td>Дніпропетровська</td>\n",
              "      <td>20.4</td>\n",
              "      <td>20.4</td>\n",
              "      <td>15.1</td>\n",
              "      <td>12.3</td>\n",
              "      <td>7.1</td>\n",
              "      <td>11.2</td>\n",
              "      <td>11.1</td>\n",
              "      <td>7.1</td>\n",
              "    </tr>\n",
              "    <tr>\n",
              "      <th>4</th>\n",
              "      <td>Донецька</td>\n",
              "      <td>27.1</td>\n",
              "      <td>21.4</td>\n",
              "      <td>14.0</td>\n",
              "      <td>10.9</td>\n",
              "      <td>6.1</td>\n",
              "      <td>9.8</td>\n",
              "      <td>8.2</td>\n",
              "      <td>NaN</td>\n",
              "    </tr>\n",
              "  </tbody>\n",
              "</table>\n",
              "</div>\n",
              "      <button class=\"colab-df-convert\" onclick=\"convertToInteractive('df-541b71de-9ccc-4327-9c73-fb4a63b04989')\"\n",
              "              title=\"Convert this dataframe to an interactive table.\"\n",
              "              style=\"display:none;\">\n",
              "        \n",
              "  <svg xmlns=\"http://www.w3.org/2000/svg\" height=\"24px\"viewBox=\"0 0 24 24\"\n",
              "       width=\"24px\">\n",
              "    <path d=\"M0 0h24v24H0V0z\" fill=\"none\"/>\n",
              "    <path d=\"M18.56 5.44l.94 2.06.94-2.06 2.06-.94-2.06-.94-.94-2.06-.94 2.06-2.06.94zm-11 1L8.5 8.5l.94-2.06 2.06-.94-2.06-.94L8.5 2.5l-.94 2.06-2.06.94zm10 10l.94 2.06.94-2.06 2.06-.94-2.06-.94-.94-2.06-.94 2.06-2.06.94z\"/><path d=\"M17.41 7.96l-1.37-1.37c-.4-.4-.92-.59-1.43-.59-.52 0-1.04.2-1.43.59L10.3 9.45l-7.72 7.72c-.78.78-.78 2.05 0 2.83L4 21.41c.39.39.9.59 1.41.59.51 0 1.02-.2 1.41-.59l7.78-7.78 2.81-2.81c.8-.78.8-2.07 0-2.86zM5.41 20L4 18.59l7.72-7.72 1.47 1.35L5.41 20z\"/>\n",
              "  </svg>\n",
              "      </button>\n",
              "      \n",
              "  <style>\n",
              "    .colab-df-container {\n",
              "      display:flex;\n",
              "      flex-wrap:wrap;\n",
              "      gap: 12px;\n",
              "    }\n",
              "\n",
              "    .colab-df-convert {\n",
              "      background-color: #E8F0FE;\n",
              "      border: none;\n",
              "      border-radius: 50%;\n",
              "      cursor: pointer;\n",
              "      display: none;\n",
              "      fill: #1967D2;\n",
              "      height: 32px;\n",
              "      padding: 0 0 0 0;\n",
              "      width: 32px;\n",
              "    }\n",
              "\n",
              "    .colab-df-convert:hover {\n",
              "      background-color: #E2EBFA;\n",
              "      box-shadow: 0px 1px 2px rgba(60, 64, 67, 0.3), 0px 1px 3px 1px rgba(60, 64, 67, 0.15);\n",
              "      fill: #174EA6;\n",
              "    }\n",
              "\n",
              "    [theme=dark] .colab-df-convert {\n",
              "      background-color: #3B4455;\n",
              "      fill: #D2E3FC;\n",
              "    }\n",
              "\n",
              "    [theme=dark] .colab-df-convert:hover {\n",
              "      background-color: #434B5C;\n",
              "      box-shadow: 0px 1px 3px 1px rgba(0, 0, 0, 0.15);\n",
              "      filter: drop-shadow(0px 1px 2px rgba(0, 0, 0, 0.3));\n",
              "      fill: #FFFFFF;\n",
              "    }\n",
              "  </style>\n",
              "\n",
              "      <script>\n",
              "        const buttonEl =\n",
              "          document.querySelector('#df-541b71de-9ccc-4327-9c73-fb4a63b04989 button.colab-df-convert');\n",
              "        buttonEl.style.display =\n",
              "          google.colab.kernel.accessAllowed ? 'block' : 'none';\n",
              "\n",
              "        async function convertToInteractive(key) {\n",
              "          const element = document.querySelector('#df-541b71de-9ccc-4327-9c73-fb4a63b04989');\n",
              "          const dataTable =\n",
              "            await google.colab.kernel.invokeFunction('convertToInteractive',\n",
              "                                                     [key], {});\n",
              "          if (!dataTable) return;\n",
              "\n",
              "          const docLinkHtml = 'Like what you see? Visit the ' +\n",
              "            '<a target=\"_blank\" href=https://colab.research.google.com/notebooks/data_table.ipynb>data table notebook</a>'\n",
              "            + ' to learn more about interactive tables.';\n",
              "          element.innerHTML = '';\n",
              "          dataTable['output_type'] = 'display_data';\n",
              "          await google.colab.output.renderOutput(dataTable, element);\n",
              "          const docLink = document.createElement('div');\n",
              "          docLink.innerHTML = docLinkHtml;\n",
              "          element.appendChild(docLink);\n",
              "        }\n",
              "      </script>\n",
              "    </div>\n",
              "  </div>\n",
              "  "
            ]
          },
          "metadata": {},
          "execution_count": 35
        }
      ]
    },
    {
      "cell_type": "markdown",
      "source": [
        "Замените отсутствующие данные в столбцах средними значениями по этим столбцам (метод fillna)"
      ],
      "metadata": {
        "id": "AWQDagSiuNE7"
      }
    },
    {
      "cell_type": "code",
      "source": [
        "#for colum in df.columns[1:]:\n",
        "#  df[colum] = df[colum].fillna(df[colum].mean())\n",
        "\n",
        "df.fillna(df.mean(), inplace=True)\n",
        "  \n",
        "df.head(5)"
      ],
      "metadata": {
        "colab": {
          "base_uri": "https://localhost:8080/",
          "height": 261
        },
        "id": "-x9RwwDCuN6m",
        "outputId": "092686a1-9b85-4d8d-85dd-4f8b1dd426b0"
      },
      "execution_count": 36,
      "outputs": [
        {
          "output_type": "stream",
          "name": "stderr",
          "text": [
            "<ipython-input-36-548b60d9f086>:4: FutureWarning: Dropping of nuisance columns in DataFrame reductions (with 'numeric_only=None') is deprecated; in a future version this will raise TypeError.  Select only valid columns before calling the reduction.\n",
            "  df.fillna(df.mean(), inplace=True)\n"
          ]
        },
        {
          "output_type": "execute_result",
          "data": {
            "text/plain": [
              "             Регіон  1950  1960  1970  1990  2000  2012    2014       2019\n",
              "0              Крим  23.0  20.6  16.0  13.0   7.3  12.6  11.144   8.017391\n",
              "1         Вінницька  22.4  19.2  14.2  12.4   8.4  11.2  10.900   7.600000\n",
              "2         Волинська  24.7  25.0  17.9  15.3  11.2  14.8  14.100  10.100000\n",
              "3  Дніпропетровська  20.4  20.4  15.1  12.3   7.1  11.2  11.100   7.100000\n",
              "4          Донецька  27.1  21.4  14.0  10.9   6.1   9.8   8.200   8.017391"
            ],
            "text/html": [
              "\n",
              "  <div id=\"df-d073e2b6-13a5-4ce2-bfaa-142c7c2ea292\">\n",
              "    <div class=\"colab-df-container\">\n",
              "      <div>\n",
              "<style scoped>\n",
              "    .dataframe tbody tr th:only-of-type {\n",
              "        vertical-align: middle;\n",
              "    }\n",
              "\n",
              "    .dataframe tbody tr th {\n",
              "        vertical-align: top;\n",
              "    }\n",
              "\n",
              "    .dataframe thead th {\n",
              "        text-align: right;\n",
              "    }\n",
              "</style>\n",
              "<table border=\"1\" class=\"dataframe\">\n",
              "  <thead>\n",
              "    <tr style=\"text-align: right;\">\n",
              "      <th></th>\n",
              "      <th>Регіон</th>\n",
              "      <th>1950</th>\n",
              "      <th>1960</th>\n",
              "      <th>1970</th>\n",
              "      <th>1990</th>\n",
              "      <th>2000</th>\n",
              "      <th>2012</th>\n",
              "      <th>2014</th>\n",
              "      <th>2019</th>\n",
              "    </tr>\n",
              "  </thead>\n",
              "  <tbody>\n",
              "    <tr>\n",
              "      <th>0</th>\n",
              "      <td>Крим</td>\n",
              "      <td>23.0</td>\n",
              "      <td>20.6</td>\n",
              "      <td>16.0</td>\n",
              "      <td>13.0</td>\n",
              "      <td>7.3</td>\n",
              "      <td>12.6</td>\n",
              "      <td>11.144</td>\n",
              "      <td>8.017391</td>\n",
              "    </tr>\n",
              "    <tr>\n",
              "      <th>1</th>\n",
              "      <td>Вінницька</td>\n",
              "      <td>22.4</td>\n",
              "      <td>19.2</td>\n",
              "      <td>14.2</td>\n",
              "      <td>12.4</td>\n",
              "      <td>8.4</td>\n",
              "      <td>11.2</td>\n",
              "      <td>10.900</td>\n",
              "      <td>7.600000</td>\n",
              "    </tr>\n",
              "    <tr>\n",
              "      <th>2</th>\n",
              "      <td>Волинська</td>\n",
              "      <td>24.7</td>\n",
              "      <td>25.0</td>\n",
              "      <td>17.9</td>\n",
              "      <td>15.3</td>\n",
              "      <td>11.2</td>\n",
              "      <td>14.8</td>\n",
              "      <td>14.100</td>\n",
              "      <td>10.100000</td>\n",
              "    </tr>\n",
              "    <tr>\n",
              "      <th>3</th>\n",
              "      <td>Дніпропетровська</td>\n",
              "      <td>20.4</td>\n",
              "      <td>20.4</td>\n",
              "      <td>15.1</td>\n",
              "      <td>12.3</td>\n",
              "      <td>7.1</td>\n",
              "      <td>11.2</td>\n",
              "      <td>11.100</td>\n",
              "      <td>7.100000</td>\n",
              "    </tr>\n",
              "    <tr>\n",
              "      <th>4</th>\n",
              "      <td>Донецька</td>\n",
              "      <td>27.1</td>\n",
              "      <td>21.4</td>\n",
              "      <td>14.0</td>\n",
              "      <td>10.9</td>\n",
              "      <td>6.1</td>\n",
              "      <td>9.8</td>\n",
              "      <td>8.200</td>\n",
              "      <td>8.017391</td>\n",
              "    </tr>\n",
              "  </tbody>\n",
              "</table>\n",
              "</div>\n",
              "      <button class=\"colab-df-convert\" onclick=\"convertToInteractive('df-d073e2b6-13a5-4ce2-bfaa-142c7c2ea292')\"\n",
              "              title=\"Convert this dataframe to an interactive table.\"\n",
              "              style=\"display:none;\">\n",
              "        \n",
              "  <svg xmlns=\"http://www.w3.org/2000/svg\" height=\"24px\"viewBox=\"0 0 24 24\"\n",
              "       width=\"24px\">\n",
              "    <path d=\"M0 0h24v24H0V0z\" fill=\"none\"/>\n",
              "    <path d=\"M18.56 5.44l.94 2.06.94-2.06 2.06-.94-2.06-.94-.94-2.06-.94 2.06-2.06.94zm-11 1L8.5 8.5l.94-2.06 2.06-.94-2.06-.94L8.5 2.5l-.94 2.06-2.06.94zm10 10l.94 2.06.94-2.06 2.06-.94-2.06-.94-.94-2.06-.94 2.06-2.06.94z\"/><path d=\"M17.41 7.96l-1.37-1.37c-.4-.4-.92-.59-1.43-.59-.52 0-1.04.2-1.43.59L10.3 9.45l-7.72 7.72c-.78.78-.78 2.05 0 2.83L4 21.41c.39.39.9.59 1.41.59.51 0 1.02-.2 1.41-.59l7.78-7.78 2.81-2.81c.8-.78.8-2.07 0-2.86zM5.41 20L4 18.59l7.72-7.72 1.47 1.35L5.41 20z\"/>\n",
              "  </svg>\n",
              "      </button>\n",
              "      \n",
              "  <style>\n",
              "    .colab-df-container {\n",
              "      display:flex;\n",
              "      flex-wrap:wrap;\n",
              "      gap: 12px;\n",
              "    }\n",
              "\n",
              "    .colab-df-convert {\n",
              "      background-color: #E8F0FE;\n",
              "      border: none;\n",
              "      border-radius: 50%;\n",
              "      cursor: pointer;\n",
              "      display: none;\n",
              "      fill: #1967D2;\n",
              "      height: 32px;\n",
              "      padding: 0 0 0 0;\n",
              "      width: 32px;\n",
              "    }\n",
              "\n",
              "    .colab-df-convert:hover {\n",
              "      background-color: #E2EBFA;\n",
              "      box-shadow: 0px 1px 2px rgba(60, 64, 67, 0.3), 0px 1px 3px 1px rgba(60, 64, 67, 0.15);\n",
              "      fill: #174EA6;\n",
              "    }\n",
              "\n",
              "    [theme=dark] .colab-df-convert {\n",
              "      background-color: #3B4455;\n",
              "      fill: #D2E3FC;\n",
              "    }\n",
              "\n",
              "    [theme=dark] .colab-df-convert:hover {\n",
              "      background-color: #434B5C;\n",
              "      box-shadow: 0px 1px 3px 1px rgba(0, 0, 0, 0.15);\n",
              "      filter: drop-shadow(0px 1px 2px rgba(0, 0, 0, 0.3));\n",
              "      fill: #FFFFFF;\n",
              "    }\n",
              "  </style>\n",
              "\n",
              "      <script>\n",
              "        const buttonEl =\n",
              "          document.querySelector('#df-d073e2b6-13a5-4ce2-bfaa-142c7c2ea292 button.colab-df-convert');\n",
              "        buttonEl.style.display =\n",
              "          google.colab.kernel.accessAllowed ? 'block' : 'none';\n",
              "\n",
              "        async function convertToInteractive(key) {\n",
              "          const element = document.querySelector('#df-d073e2b6-13a5-4ce2-bfaa-142c7c2ea292');\n",
              "          const dataTable =\n",
              "            await google.colab.kernel.invokeFunction('convertToInteractive',\n",
              "                                                     [key], {});\n",
              "          if (!dataTable) return;\n",
              "\n",
              "          const docLinkHtml = 'Like what you see? Visit the ' +\n",
              "            '<a target=\"_blank\" href=https://colab.research.google.com/notebooks/data_table.ipynb>data table notebook</a>'\n",
              "            + ' to learn more about interactive tables.';\n",
              "          element.innerHTML = '';\n",
              "          dataTable['output_type'] = 'display_data';\n",
              "          await google.colab.output.renderOutput(dataTable, element);\n",
              "          const docLink = document.createElement('div');\n",
              "          docLink.innerHTML = docLinkHtml;\n",
              "          element.appendChild(docLink);\n",
              "        }\n",
              "      </script>\n",
              "    </div>\n",
              "  </div>\n",
              "  "
            ]
          },
          "metadata": {},
          "execution_count": 36
        }
      ]
    },
    {
      "cell_type": "markdown",
      "source": [
        "Получите список регионов, где уровень рождаемости в 2019 году был выше среднего по Украине"
      ],
      "metadata": {
        "id": "51oKZQjRzlNE"
      }
    },
    {
      "cell_type": "code",
      "source": [
        "mean_birth_rate = df['2019'].mean()\n",
        "\n",
        "regions_above_mean = df.loc[df['2019'] > mean_birth_rate, 'Регіон'].tolist()\n",
        "\n",
        "print(regions_above_mean)"
      ],
      "metadata": {
        "colab": {
          "base_uri": "https://localhost:8080/"
        },
        "id": "UUQYyDdXzmCO",
        "outputId": "38eb4782-d183-4c94-9520-b10dc9626efc"
      },
      "execution_count": 51,
      "outputs": [
        {
          "output_type": "stream",
          "name": "stdout",
          "text": [
            "['Волинська', 'Закарпатська', 'Івано-Франківська', 'Львівська', 'Одеська', 'Рівненська', 'Херсонська', 'Чернівецька', 'Київ']\n"
          ]
        }
      ]
    },
    {
      "cell_type": "markdown",
      "source": [
        "В каком регионе была самая высокая рождаемость в 2014 году?"
      ],
      "metadata": {
        "id": "nzFftxER1wcS"
      }
    },
    {
      "cell_type": "code",
      "source": [
        "idxmax = df['2014'].idxmax()\n",
        "\n",
        "highest_birth_rate_region = df.loc[idxmax, 'Регіон']\n",
        "\n",
        "print(f\"Самая высокая рождаемость в 2014 году была в {highest_birth_rate_region}\")"
      ],
      "metadata": {
        "colab": {
          "base_uri": "https://localhost:8080/"
        },
        "id": "flWJHHUZ1y9N",
        "outputId": "93566d72-e3ba-42b1-9f34-6c09fe23a10a"
      },
      "execution_count": 52,
      "outputs": [
        {
          "output_type": "stream",
          "name": "stdout",
          "text": [
            "Самая высокая рождаемость в 2014 году была в Рівненська\n"
          ]
        }
      ]
    },
    {
      "cell_type": "markdown",
      "source": [
        "Постройте столбцовую диаграмму рождаемости по регионам в 2019 году"
      ],
      "metadata": {
        "id": "D-rKGEXj2ZYz"
      }
    },
    {
      "cell_type": "code",
      "source": [
        "import matplotlib.pyplot as plt\n",
        "\n",
        "birth_rates_2019 = df.loc[:, ['Регіон', '2019']]\n",
        "\n",
        "plt.bar(birth_rates_2019['Регіон'], birth_rates_2019['2019'])\n",
        "plt.title('Рождаемость по регионам в 2019 году')\n",
        "plt.xlabel('Регион')\n",
        "plt.xticks(rotation=90)\n",
        "plt.ylabel('Рождаемость')\n",
        "plt.grid(True)\n",
        "plt.show()"
      ],
      "metadata": {
        "colab": {
          "base_uri": "https://localhost:8080/",
          "height": 382
        },
        "id": "dsftxIrc2bRw",
        "outputId": "02cb0e23-4b5c-445c-82ed-82e6f74caee2"
      },
      "execution_count": 45,
      "outputs": [
        {
          "output_type": "display_data",
          "data": {
            "text/plain": [
              "<Figure size 432x288 with 1 Axes>"
            ],
            "image/png": "[encoded data removed]"
          },
          "metadata": {
            "needs_background": "light"
          }
        }
      ]
    }
  ]
}